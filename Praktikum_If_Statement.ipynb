{
 "cells": [
  {
   "cell_type": "markdown",
   "id": "4548f72c",
   "metadata": {},
   "source": [
    "\n",
    "# 🐍 Praktikum Pemrograman Python  \n",
    "## Topik: If Statement  \n",
    "\n",
    "**Tujuan Pembelajaran:**  \n",
    "- Mahasiswa memahami konsep percabangan `if`, `if-else`, dan `if-elif-else`  \n",
    "- Mahasiswa dapat menggunakan percabangan dalam menyelesaikan studi kasus sederhana  \n",
    "\n",
    "---\n",
    "File Program dikumpul di [link ini](https://forms.gle/WPUenG62r6guqinHA)\n"
   ]
  },
  {
   "cell_type": "markdown",
   "id": "c9eb6d33",
   "metadata": {},
   "source": [
    "### **Soal 1 — 🧩 Melengkapi Kode**\n",
    "\n",
    "Lengkapi kode untuk menentukan bilangan positif, negatif, atau nol.\n",
    "```python\n",
    "angka = int(input(\"Masukkan sebuah bilangan: \"))\n",
    "if ________:\n",
    "    print(\"Bilangan positif\")\n",
    "elif ________:\n",
    "    print(\"Bilangan negatif\")\n",
    "else:\n",
    "    print(\"Bilangan nol\")\n",
    "```\n"
   ]
  },
  {
   "cell_type": "code",
   "execution_count": null,
   "id": "955a058d",
   "metadata": {},
   "outputs": [],
   "source": [
    "# Tulis jawaban Anda di bawah ini\n"
   ]
  },
  {
   "cell_type": "markdown",
   "id": "ac2e2d8e",
   "metadata": {},
   "source": [
    "### **Soal 2 — 🧩 Melengkapi Kode**\n",
    "\n",
    "Lengkapi kode agar menampilkan “Lulus” jika nilai ≥ 60 dan “Tidak Lulus” jika nilai < 60.\n",
    "```python\n",
    "nilai = int(input(\"Masukkan nilai ujian: \"))\n",
    "if ________:\n",
    "    print(\"Lulus\")\n",
    "else:\n",
    "    print(\"Tidak Lulus\")\n",
    "```\n"
   ]
  },
  {
   "cell_type": "code",
   "execution_count": null,
   "id": "7b1fc85b",
   "metadata": {},
   "outputs": [],
   "source": [
    "# Tulis jawaban Anda di bawah ini\n"
   ]
  },
  {
   "cell_type": "markdown",
   "id": "1165809e",
   "metadata": {},
   "source": [
    "### **Soal 3 — 🧩 Melengkapi Kode**\n",
    "\n",
    "Lengkapi kode agar menghitung total bayar dengan diskon 10% jika belanja > 200000.\n",
    "```python\n",
    "total = float(input(\"Masukkan total belanja: \"))\n",
    "if ________:\n",
    "    total_bayar = total * 0.9\n",
    "else:\n",
    "    total_bayar = total\n",
    "print(\"Total bayar:\", total_bayar)\n",
    "```\n"
   ]
  },
  {
   "cell_type": "code",
   "execution_count": null,
   "id": "deff46fc",
   "metadata": {},
   "outputs": [],
   "source": [
    "# Tulis jawaban Anda di bawah ini\n"
   ]
  },
  {
   "cell_type": "markdown",
   "id": "ede57b96",
   "metadata": {},
   "source": [
    "### **Soal 4 — 🧩 Melengkapi Kode**\n",
    "Buat program untuk menentukan apakah sebuah bilangan ganjil atau genap."
   ]
  },
  {
   "cell_type": "code",
   "execution_count": null,
   "id": "156bf5bb",
   "metadata": {},
   "outputs": [],
   "source": [
    "# Tulis jawaban Anda di bawah ini\n"
   ]
  },
  {
   "cell_type": "markdown",
   "id": "bd40f36d",
   "metadata": {},
   "source": [
    "### **Soal 5 — 🧩 Melengkapi Kode**\n",
    "Buat program menentukan **grade nilai** (A, B, C, D, E) berdasarkan interval nilai."
   ]
  },
  {
   "cell_type": "code",
   "execution_count": null,
   "id": "bdb58d73",
   "metadata": {},
   "outputs": [],
   "source": [
    "# Tulis jawaban Anda di bawah ini\n"
   ]
  },
  {
   "cell_type": "markdown",
   "id": "22aa47fe",
   "metadata": {},
   "source": [
    "### **Soal 6 — 🧩 Melengkapi Kode**\n",
    "Buat sistem login sederhana dengan `username = 'admin'` dan `password = '12345'`."
   ]
  },
  {
   "cell_type": "code",
   "execution_count": null,
   "id": "03204f05",
   "metadata": {},
   "outputs": [],
   "source": [
    "# Tulis jawaban Anda di bawah ini\n"
   ]
  },
  {
   "cell_type": "markdown",
   "id": "9080b77e",
   "metadata": {},
   "source": [
    "### **Soal 7 — 🧩 Melengkapi Kode**\n",
    "Buat program menghitung tarif parkir: 2 jam pertama Rp5000, tiap jam tambahan Rp2000."
   ]
  },
  {
   "cell_type": "code",
   "execution_count": null,
   "id": "d32f2166",
   "metadata": {},
   "outputs": [],
   "source": [
    "# Tulis jawaban Anda di bawah ini\n"
   ]
  },
  {
   "cell_type": "markdown",
   "id": "826fcf19",
   "metadata": {},
   "source": [
    "### **Soal 8 — 🧩 Melengkapi Kode**\n",
    "Buat program menentukan apakah tahun yang dimasukkan adalah **tahun kabisat** atau tidak."
   ]
  },
  {
   "cell_type": "code",
   "execution_count": null,
   "id": "93991b13",
   "metadata": {},
   "outputs": [],
   "source": [
    "# Tulis jawaban Anda di bawah ini\n"
   ]
  },
  {
   "cell_type": "markdown",
   "id": "6969f3fb",
   "metadata": {},
   "source": [
    "### **Soal 9 — 🧩 Melengkapi Kode**\n",
    "Buat program klasifikasi umur: Anak-anak, Remaja, Dewasa, atau Lansia."
   ]
  },
  {
   "cell_type": "code",
   "execution_count": null,
   "id": "a1fd87d5",
   "metadata": {},
   "outputs": [],
   "source": [
    "# Tulis jawaban Anda di bawah ini\n"
   ]
  },
  {
   "cell_type": "markdown",
   "id": "ef36496b",
   "metadata": {},
   "source": [
    "### **Soal 10 — 🧩 Melengkapi Kode**\n",
    "Buat program **kalkulator sederhana** dengan operator `+`, `-`, `*`, `/`."
   ]
  },
  {
   "cell_type": "code",
   "execution_count": null,
   "id": "a5134b64",
   "metadata": {},
   "outputs": [],
   "source": [
    "# Tulis jawaban Anda di bawah ini\n"
   ]
  },
  {
   "cell_type": "markdown",
   "id": "984738b7",
   "metadata": {},
   "source": [
    "### **Soal 11 — 💻 Membuat Kode (Studi Kasus)**\n",
    "Buat program menentukan apakah sebuah huruf adalah **huruf vokal atau konsonan**."
   ]
  },
  {
   "cell_type": "code",
   "execution_count": null,
   "id": "864b3076",
   "metadata": {},
   "outputs": [],
   "source": [
    "# Tulis jawaban Anda di bawah ini\n"
   ]
  },
  {
   "cell_type": "markdown",
   "id": "7683323e",
   "metadata": {},
   "source": [
    "### **Soal 12 — 💻 Membuat Kode (Studi Kasus)**\n",
    "Buat program menilai **status suhu tubuh**: <36°C (dingin), 36–37.5°C (normal), >37.5°C (demam)."
   ]
  },
  {
   "cell_type": "code",
   "execution_count": null,
   "id": "42f75204",
   "metadata": {},
   "outputs": [],
   "source": [
    "# Tulis jawaban Anda di bawah ini\n"
   ]
  },
  {
   "cell_type": "markdown",
   "id": "7da8ed91",
   "metadata": {},
   "source": [
    "### **Soal 13 — 💻 Membuat Kode (Studi Kasus)**\n",
    "Buat program menentukan apakah seseorang **boleh ikut lomba** jika usia >17 dan memiliki KTP."
   ]
  },
  {
   "cell_type": "code",
   "execution_count": null,
   "id": "dd35f954",
   "metadata": {},
   "outputs": [],
   "source": [
    "# Tulis jawaban Anda di bawah ini\n"
   ]
  },
  {
   "cell_type": "markdown",
   "id": "00cf8e74",
   "metadata": {},
   "source": [
    "### **Soal 14 — 💻 Membuat Kode (Studi Kasus)**\n",
    "Buat program menampilkan **status kelulusan mata kuliah**: Lulus jika nilai ≥ 60 dan kehadiran ≥ 75%."
   ]
  },
  {
   "cell_type": "code",
   "execution_count": null,
   "id": "a1f1bd03",
   "metadata": {},
   "outputs": [],
   "source": [
    "# Tulis jawaban Anda di bawah ini\n"
   ]
  },
  {
   "cell_type": "markdown",
   "id": "41d13830",
   "metadata": {},
   "source": [
    "### **Soal 15 — 💻 Membuat Kode (Studi Kasus)**\n",
    "Buat program menentukan apakah sebuah tahun merupakan **abad baru** (contoh: 2000, 2100)."
   ]
  },
  {
   "cell_type": "code",
   "execution_count": null,
   "id": "da9e35f3",
   "metadata": {},
   "outputs": [],
   "source": [
    "# Tulis jawaban Anda di bawah ini\n"
   ]
  },
  {
   "cell_type": "markdown",
   "id": "15a21c31",
   "metadata": {},
   "source": [
    "### **Soal 16 — 💻 Membuat Kode (Studi Kasus)**\n",
    "Buat program yang memeriksa apakah **angka terbesar dari tiga bilangan** menggunakan if-else."
   ]
  },
  {
   "cell_type": "code",
   "execution_count": null,
   "id": "df5020b3",
   "metadata": {},
   "outputs": [],
   "source": [
    "# Tulis jawaban Anda di bawah ini\n"
   ]
  },
  {
   "cell_type": "markdown",
   "id": "8785e180",
   "metadata": {},
   "source": [
    "### **Soal 17 — 💻 Membuat Kode (Studi Kasus)**\n",
    "Buat program untuk menilai **status berat badan** berdasarkan nilai BMI (Body Mass Index)."
   ]
  },
  {
   "cell_type": "code",
   "execution_count": null,
   "id": "a2b96736",
   "metadata": {},
   "outputs": [],
   "source": [
    "# Tulis jawaban Anda di bawah ini\n"
   ]
  },
  {
   "cell_type": "markdown",
   "id": "b7911a6e",
   "metadata": {},
   "source": [
    "### **Soal 18 — 💻 Membuat Kode (Studi Kasus)**\n",
    "Buat program menentukan apakah karakter input merupakan **angka, huruf, atau simbol**."
   ]
  },
  {
   "cell_type": "code",
   "execution_count": null,
   "id": "5fec27f7",
   "metadata": {},
   "outputs": [],
   "source": [
    "# Tulis jawaban Anda di bawah ini\n"
   ]
  },
  {
   "cell_type": "markdown",
   "id": "9c5b0a57",
   "metadata": {},
   "source": [
    "### **Soal 19 — 💻 Membuat Kode (Studi Kasus)**\n",
    "Buat program simulasi **pemesanan tiket bioskop**: harga berbeda untuk hari kerja dan akhir pekan."
   ]
  },
  {
   "cell_type": "code",
   "execution_count": null,
   "id": "2ef8635d",
   "metadata": {},
   "outputs": [],
   "source": [
    "# Tulis jawaban Anda di bawah ini\n"
   ]
  },
  {
   "cell_type": "markdown",
   "id": "642aa8d9",
   "metadata": {},
   "source": [
    "### **Soal 20 — 💻 Membuat Kode (Studi Kasus)**\n",
    "Buat program menentukan **kategori cuaca** berdasarkan suhu (derajat Celsius): dingin, sejuk, panas."
   ]
  },
  {
   "cell_type": "code",
   "execution_count": null,
   "id": "33935364",
   "metadata": {},
   "outputs": [],
   "source": [
    "# Tulis jawaban Anda di bawah ini\n"
   ]
  }
 ],
 "metadata": {
  "language_info": {
   "name": "python"
  }
 },
 "nbformat": 4,
 "nbformat_minor": 5
}
