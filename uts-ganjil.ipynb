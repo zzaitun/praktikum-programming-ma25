{
 "cells": [
  {
   "cell_type": "markdown",
   "id": "c87d2487",
   "metadata": {},
   "source": [
    "# Ujian Tengah Semester Ganjil Matematika 2025\n",
    "\n",
    "*Jawablah pertanyaan dengan baik* dan dikumpulkan pada: \n",
    "[KUMPUL UTS](https://forms.gle/V32mC7fCesm9i3Kp6)"
   ]
  },
  {
   "cell_type": "markdown",
   "id": "bb895b88",
   "metadata": {},
   "source": [
    "1. Apa yang anda ketahui tentang algoritma dalam konteks pemrograman komputer. Buat algoritma \"Seorang Kasir melayani pembeli\""
   ]
  },
  {
   "cell_type": "code",
   "execution_count": null,
   "id": "65afd6aa",
   "metadata": {},
   "outputs": [],
   "source": [
    "# Jawaban dalam bentuk comment python:\n",
    "\n",
    "\"\"\"\n",
    "Dalam konteks pemrograman komputer, algoritma adalah urutan langkah-langkah logis dan sistematis yang digunakan untuk menyelesaikan suatu masalah atau mencapai tujuan tertentu. Algoritma menjadi dasar dalam penulisan program, karena program komputer pada dasarnya adalah implementasi dari algoritma dalam suatu bahasa pemrograman.\n",
    "\n",
    "Ciri-ciri algoritma yang baik antara lain:\n",
    "1.\tJelas dan terstruktur – setiap langkah mudah dipahami.\n",
    "2.\tTerbatas – memiliki awal dan akhir yang jelas.\n",
    "3.\tEfisien – tidak mengandung langkah yang tidak perlu.\n",
    "4.\tLogis dan deterministik – jika dijalankan berulang kali dengan input yang sama, hasilnya selalu     sama.\n",
    "\n",
    "Judul: Algoritma Kasir Melayani Pembeli\n",
    "\n",
    "Deskripsi: Algoritma ini menggambarkan langkah-langkah seorang kasir dalam melayani pembeli di toko.\n",
    "\n",
    "⸻\n",
    "\n",
    "Langkah-langkah Algoritma:\n",
    "\t1.\tMulai\n",
    "\t2.\tKasir menyapa pembeli\n",
    "\t3.\tPembeli menyerahkan barang belanjaan\n",
    "\t4.\tKasir memindai (scan) setiap barang dan mencatat harganya\n",
    "\t5.\tKasir menghitung total harga seluruh barang\n",
    "\t6.\tKasir memberitahukan total harga kepada pembeli\n",
    "\t7.\tPembeli memberikan uang pembayaran (tunai atau non-tunai)\n",
    "\t8.\tKasir memproses pembayaran\n",
    "\t9.\tJika pembayaran tunai, kasir menghitung dan memberikan uang kembalian bila ada\n",
    "\t10.\tKasir mencetak dan menyerahkan struk belanja\n",
    "\t11.\tKasir mengucapkan terima kasih kepada pembeli\n",
    "\t12.\tSelesai\n",
    "\"\"\""
   ]
  },
  {
   "cell_type": "markdown",
   "id": "028e81ba",
   "metadata": {},
   "source": [
    "2. Buatlah program Python yang meminta pengguna memasukkan nama dan umur, lalu menampilkan kalimat seperti contoh berikut:\n",
    "\n",
    "```\n",
    "Masukkan nama Anda: Mahasiswa\n",
    "Masukkan NIM Anda: 6002201014\n",
    "Masukkan umur Anda: 21\n",
    "\n",
    "Halo Mahasiswa NIM 6002201014, umur Anda 21 tahun.\n",
    "```"
   ]
  },
  {
   "cell_type": "code",
   "execution_count": null,
   "id": "523c1b80",
   "metadata": {},
   "outputs": [],
   "source": [
    "nama = input(\"Masukkan nama Anda: \")\n",
    "nim = input(\"Masukkan NIM Anda: \")\n",
    "usia = inpu(\"Masukkan umur Anda: \")\n",
    "\n",
    "print(f'Halo {nama} NIM {nim}, umur Anda {usia} tahun.')"
   ]
  },
  {
   "cell_type": "markdown",
   "id": "e5bdd433",
   "metadata": {},
   "source": [
    "3. Perhatikan potongan kode berikut:"
   ]
  },
  {
   "cell_type": "code",
   "execution_count": 8,
   "id": "64b58c0a",
   "metadata": {},
   "outputs": [
    {
     "ename": "TypeError",
     "evalue": "can only concatenate str (not \"int\") to str",
     "output_type": "error",
     "traceback": [
      "\u001b[0;31m---------------------------------------------------------------------------\u001b[0m",
      "\u001b[0;31mTypeError\u001b[0m                                 Traceback (most recent call last)",
      "Input \u001b[0;32mIn [8]\u001b[0m, in \u001b[0;36m<cell line: 3>\u001b[0;34m()\u001b[0m\n\u001b[1;32m      1\u001b[0m a \u001b[38;5;241m=\u001b[39m \u001b[38;5;28minput\u001b[39m(\u001b[38;5;124m\"\u001b[39m\u001b[38;5;124mMasukkan nilai= \u001b[39m\u001b[38;5;124m\"\u001b[39m)\n\u001b[1;32m      2\u001b[0m b \u001b[38;5;241m=\u001b[39m \u001b[38;5;241m6\u001b[39m\n\u001b[0;32m----> 3\u001b[0m c \u001b[38;5;241m=\u001b[39m \u001b[43ma\u001b[49m\u001b[43m \u001b[49m\u001b[38;5;241;43m+\u001b[39;49m\u001b[43m \u001b[49m\u001b[43mb\u001b[49m\n\u001b[1;32m      4\u001b[0m \u001b[38;5;28mprint\u001b[39m(c)\n",
      "\u001b[0;31mTypeError\u001b[0m: can only concatenate str (not \"int\") to str"
     ]
    }
   ],
   "source": [
    "a = input(\"Masukkan nilai= \")\n",
    "b = 6\n",
    "c = a + b\n",
    "print(c)"
   ]
  },
  {
   "cell_type": "markdown",
   "id": "e12d8539",
   "metadata": {},
   "source": [
    "a) Run kode di atas Jika inputan 8, Jelaskan yang terjadi setelah program dijalankan.\n",
    "\n",
    "b) Tuliskan versi kode yang benar agar menghasilkan output 14."
   ]
  },
  {
   "cell_type": "code",
   "execution_count": null,
   "id": "9ee680cd",
   "metadata": {},
   "outputs": [],
   "source": [
    "\"\"\"\n",
    "Jawaban Bagian a).\n",
    "Program ini tidak tereksekusi sempurna atau terjadi error karena ada penggunaan operator numerik pada type data variabel yang berbeda (numerik dan string) sehingga tidak dapat dioperasikan.\n",
    "\n",
    "\"\"\""
   ]
  },
  {
   "cell_type": "code",
   "execution_count": 9,
   "id": "2c944620",
   "metadata": {},
   "outputs": [
    {
     "name": "stdout",
     "output_type": "stream",
     "text": [
      "14\n"
     ]
    }
   ],
   "source": [
    "\"\"\" Solusi agar Program berjalan baik adalah dengan melakukan casting variabel\n",
    "\"\"\"\n",
    "a = int(input(\"Masukkan nilai= \"))\n",
    "b = 6\n",
    "c = a + b\n",
    "print(c)"
   ]
  },
  {
   "cell_type": "markdown",
   "id": "0fb6463c",
   "metadata": {},
   "source": [
    "4. Anda memiliki fungsi matematika: $f(x)=\\frac{x^2-1}{x-1}$. Buatkan program untuk mengetahui 4 nilai fungsi di sekitar nilai $x=1$. \n",
    "\n",
    "Contoh output:\n",
    "```\n",
    "pada x=1.01 nilai fungsi adalah: 2.019999999999998\n",
    "pada x=1.01 nilai fungsi adalah: 2.009999999999999\n",
    "pada x=0.98 nilai fungsi adalah: 1.9800000000000022\n",
    "pada x=0.99 nilai fungsi adalah: 1.990000000000001\n",
    "```"
   ]
  },
  {
   "cell_type": "code",
   "execution_count": 10,
   "id": "120f2468",
   "metadata": {},
   "outputs": [
    {
     "name": "stdout",
     "output_type": "stream",
     "text": [
      "pada x=1.02 nilai fungsi adalah: 2.019999999999998\n",
      "pada x=1.01 nilai fungsi adalah: 2.009999999999999\n",
      "pada x=0.98 nilai fungsi adalah: 1.9800000000000022\n",
      "pada x=0.99 nilai fungsi adalah: 1.990000000000001\n"
     ]
    }
   ],
   "source": [
    "\n",
    "x1 = 1.02\n",
    "fun1 = (x1**2-1)/(x1-1)\n",
    "print(f'pada x={x} nilai fungsi adalah: {fun1}')\n",
    "\n",
    "x2 = 1.01\n",
    "fun2 = (x2**2-1)/(x2-1)\n",
    "print(f'pada x={x2} nilai fungsi adalah: {fun2}')\n",
    "\n",
    "x3 = 0.98\n",
    "fun3 = (x3**2-1)/(x3-1)\n",
    "print(f'pada x={x3} nilai fungsi adalah: {fun3}')\n",
    "\n",
    "x4 = 0.99\n",
    "fun4 = (x4**2-1)/(x4-1)\n",
    "print(f'pada x={x4} nilai fungsi adalah: {fun4}')\n"
   ]
  },
  {
   "cell_type": "markdown",
   "id": "3e019c37",
   "metadata": {},
   "source": [
    "5. Tuliskan program Python yang meminta satu bilangan bulat, kemudian cek apakah bilangan genap? output harus seperti berikut:\n",
    "\n",
    "```\n",
    "Masukkan Bilangan Genap: 5\n",
    "Pengecekan bilangan 5 merupakan genap adalah False\n",
    "```"
   ]
  },
  {
   "cell_type": "code",
   "execution_count": 12,
   "id": "51340ea7",
   "metadata": {},
   "outputs": [
    {
     "name": "stdout",
     "output_type": "stream",
     "text": [
      "Pengecekan bilangan 6 merupakan genap adalah True\n"
     ]
    }
   ],
   "source": [
    "bil = int(input(\"Masukkan Bilangan Genap: \"))\n",
    "cek = bil%2 == 0\n",
    "\n",
    "print(f'Pengecekan bilangan {bil} merupakan genap adalah {cek}')"
   ]
  },
  {
   "cell_type": "markdown",
   "id": "59e2ce79",
   "metadata": {},
   "source": [
    "6. Buat program yang meminta inputan bilangan riil untuk rentang berikut. Apabila pada rentang yang benar maka mengembalikan True jika salah maka False.\n",
    "\n",
    "$1 < x < 4$ atau $6 < x < 9$ atau $x > 12$\n",
    "```\n",
    "Masukkan nilai pada rentang yang benar: 7\n",
    "Hasil Inputan: True\n",
    "```"
   ]
  },
  {
   "cell_type": "code",
   "execution_count": 14,
   "id": "c4b90b5f",
   "metadata": {},
   "outputs": [
    {
     "name": "stdout",
     "output_type": "stream",
     "text": [
      "Hasil inputan 7.0 adalah: True\n"
     ]
    }
   ],
   "source": [
    "x = float(input(\"Masukkan nilai pada rentang yang benar: \"))\n",
    "cek1 = x > 1 and x < 4\n",
    "cek2 = ( x > 6 and x < 9 ) or x > 12 \n",
    "\n",
    "cek = cek1 or cek2\n",
    "\n",
    "print(f\"Hasil inputan {x} adalah: {cek}\")"
   ]
  },
  {
   "cell_type": "markdown",
   "id": "be248d9a",
   "metadata": {},
   "source": [
    "7. Diberikan:\n",
    "```\n",
    "teks = \"   Kuliah&&Pemrograman&&Python&&itu&&Seru!   \"\n",
    "```\n",
    "Tuliskan kode untuk:\n",
    "\n",
    "a) Menghapus spasi di awal dan akhir serta membuat kalimatnya menjadi benar\n",
    "\n",
    "b) Mengubah semua huruf menjadi huruf kecil.\n",
    "\n",
    "c) Menghitung berapa kali huruf u muncul dalam string.\n"
   ]
  },
  {
   "cell_type": "code",
   "execution_count": 17,
   "id": "a7dc09ef",
   "metadata": {},
   "outputs": [
    {
     "name": "stdout",
     "output_type": "stream",
     "text": [
      "Kuliah&&Pemrograman&&Python&&itu&&Seru!\n",
      "Kuliah Pemrograman Python itu Seru!\n"
     ]
    }
   ],
   "source": [
    "teks = \"   Kuliah&&Pemrograman&&Python&&itu&&Seru!   \"\n",
    "\n",
    "teks = teks.strip() # menghapus semua spasi\n",
    "print(teks)\n",
    "\n",
    "teks = teks.replace('&&',' ')\n",
    "print(teks)\n"
   ]
  },
  {
   "cell_type": "code",
   "execution_count": 18,
   "id": "381f1a51",
   "metadata": {},
   "outputs": [
    {
     "name": "stdout",
     "output_type": "stream",
     "text": [
      "kuliah pemrograman python itu seru!\n"
     ]
    }
   ],
   "source": [
    "teks = teks.lower()\n",
    "print(teks)"
   ]
  },
  {
   "cell_type": "code",
   "execution_count": 19,
   "id": "dbe4f01f",
   "metadata": {},
   "outputs": [
    {
     "name": "stdout",
     "output_type": "stream",
     "text": [
      "3\n"
     ]
    }
   ],
   "source": [
    "muncul = teks.count('u')\n",
    "print(muncul)"
   ]
  },
  {
   "cell_type": "markdown",
   "id": "f7d375af",
   "metadata": {},
   "source": [
    "8. Anda memiliki list:\n",
    "```\n",
    "angka = [5, 10, 15, 20, 10, 2, 4, 12, 11, 9]\n",
    "```\n",
    "Tuliskan kode untuk:\n",
    "\n",
    "a) Menambahkan elemen 25 ke akhir list dan di antara `10` dan `15`.\n",
    "\n",
    "b) Menghapus elemen `10`.\n",
    "\n",
    "c) Menampilkan elemen pertama dan terakhir."
   ]
  },
  {
   "cell_type": "code",
   "execution_count": 47,
   "id": "7129751f",
   "metadata": {},
   "outputs": [
    {
     "name": "stdout",
     "output_type": "stream",
     "text": [
      "[5, 10, 15, 20, 10, 2, 4, 12, 11, 9, 25]\n"
     ]
    }
   ],
   "source": [
    "angka = [5, 10, 15, 20, 10, 2, 4, 12, 11, 9]\n",
    "\n",
    "angka.append(25)\n",
    "\n",
    "print(angka)"
   ]
  },
  {
   "cell_type": "code",
   "execution_count": 48,
   "id": "90771617",
   "metadata": {},
   "outputs": [
    {
     "name": "stdout",
     "output_type": "stream",
     "text": [
      "[5, 15, 20, 10, 2, 4, 12, 11, 9, 25]\n",
      "[5, 15, 20, 2, 4, 12, 11, 9, 25]\n"
     ]
    }
   ],
   "source": [
    "angka.remove(10)\n",
    "print(angka)\n",
    "\n",
    "angka.remove(10)\n",
    "print(angka)"
   ]
  },
  {
   "cell_type": "code",
   "execution_count": 35,
   "id": "9a639672",
   "metadata": {},
   "outputs": [
    {
     "name": "stdout",
     "output_type": "stream",
     "text": [
      "5\n",
      "25\n"
     ]
    }
   ],
   "source": [
    "print(angka[0])\n",
    "print(angka[-1])"
   ]
  },
  {
   "cell_type": "markdown",
   "id": "59e374a6",
   "metadata": {},
   "source": [
    "9. Perhatikan dictionary berikut:\n",
    "``` \n",
    "data = {\n",
    "  \"Bio\" : {\n",
    "                \"nama\"  : \"Nama Lengkap\",\n",
    "                \"NIM\"   : 6002201014,\n",
    "                \"Prodi\" : \"Matematika\",\n",
    "                \"tahun\" : 2025\n",
    "            },\n",
    "  \"Matakuliah\" : {\n",
    "                \"mk\"    : ['Kalkulus','PTI','PP','PKN','Agama','CINTA'],\n",
    "                \"nilai\" : [91,89,90,90,91,94]\n",
    "            }\n",
    "}\n",
    "```\n",
    "Buatkan program yang memberikan Ouput:\n",
    "```\n",
    "Nama Mahasiswa  : Nama Lengkap\n",
    "Prodi           : Matematika - 2025\n",
    "NIM             : 6002201014\n",
    "\n",
    "\n",
    "Nilai Matakuliah Tertinggi adalah   : CINTA dengan nilai 94\n",
    "Nilai Matakuliah Terendah adalah    : PTI dengan nilai 89\n",
    "\n",
    "Nilai rata-rata matakuliah adalah: 90.83333333333333\n",
    "\n",
    "```"
   ]
  },
  {
   "cell_type": "code",
   "execution_count": 45,
   "id": "9c83afd1",
   "metadata": {},
   "outputs": [
    {
     "name": "stdout",
     "output_type": "stream",
     "text": [
      "Nilai Matakuliah Tertinggi adalah   : CINTA dengan nilai 94\n",
      "Nilai Matakuliah Terendah adalah    : PTI dengan nilai 89\n",
      "Nilai rata-rata matakuliah adalah: 90.83333333333333\n"
     ]
    }
   ],
   "source": [
    "data = {\n",
    "  \"Bio\" : {\n",
    "                \"nama\"  : \"Nama Lengkap\",\n",
    "                \"NIM\"   : 6002201014,\n",
    "                \"Prodi\" : \"Matematika\",\n",
    "                \"tahun\" : 2025\n",
    "            },\n",
    "  \"Matakuliah\" : {\n",
    "                \"mk\"    : [\"Kalkulus\",\"PTI\",\"PP\",\"PKN\",\"Agama\",\"CINTA\"],\n",
    "                \"nilai\" : [91,89,90,90,91,94]\n",
    "            }\n",
    "}\n",
    "maxi = max(data[\"Matakuliah\"][\"nilai\"])\n",
    "ind  = data[\"Matakuliah\"][\"nilai\"].index(maxi)\n",
    "mkul = data[\"Matakuliah\"][\"mk\"][ind]\n",
    "\n",
    "mini  = min(data[\"Matakuliah\"][\"nilai\"])\n",
    "ind2  = data[\"Matakuliah\"][\"nilai\"].index(mini)\n",
    "mkul2 = data[\"Matakuliah\"][\"mk\"][ind2]\n",
    "\n",
    "print(f'Nilai Matakuliah Tertinggi adalah   : {mkul} dengan nilai {maxi}')\n",
    "print(f'Nilai Matakuliah Terendah adalah    : {mkul2} dengan nilai {mini}')\n",
    "\n",
    "print(f'Nilai rata-rata matakuliah adalah: {sum(data[\"Matakuliah\"][\"nilai\"])/len(data[\"Matakuliah\"][\"nilai\"])}')\n"
   ]
  }
 ],
 "metadata": {
  "kernelspec": {
   "display_name": "base",
   "language": "python",
   "name": "python3"
  },
  "language_info": {
   "codemirror_mode": {
    "name": "ipython",
    "version": 3
   },
   "file_extension": ".py",
   "mimetype": "text/x-python",
   "name": "python",
   "nbconvert_exporter": "python",
   "pygments_lexer": "ipython3",
   "version": "3.9.12"
  }
 },
 "nbformat": 4,
 "nbformat_minor": 5
}
