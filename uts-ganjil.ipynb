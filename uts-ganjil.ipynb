{
 "cells": [
  {
   "cell_type": "markdown",
   "id": "c87d2487",
   "metadata": {},
   "source": [
    "# Ujian Tengah Semester Ganjil Matematika 2025\n",
    "\n",
    "*Jawablah pertanyaan dengan baik*"
   ]
  },
  {
   "cell_type": "markdown",
   "id": "bb895b88",
   "metadata": {},
   "source": [
    "1. Apa yang anda ketahui tentang algoritma dalam konteks pemrograman komputer. Buat algoritma \"Seorang Kasir melayani pembeli\""
   ]
  },
  {
   "cell_type": "code",
   "execution_count": null,
   "id": "65afd6aa",
   "metadata": {},
   "outputs": [],
   "source": [
    "# Jawaban dalam bentuk comment python:"
   ]
  },
  {
   "cell_type": "markdown",
   "id": "028e81ba",
   "metadata": {},
   "source": [
    "2. Buatlah program Python yang meminta pengguna memasukkan nama dan umur, lalu menampilkan kalimat seperti contoh berikut:\n",
    "\n",
    "```\n",
    "Masukkan nama Anda: Mahasiswa\n",
    "Masukkan NIM Anda: 6002201014\n",
    "Masukkan umur Anda: 21\n",
    "\n",
    "Halo Mahasiswa NIM 6002201014, umur Anda 21 tahun.\n",
    "```"
   ]
  },
  {
   "cell_type": "code",
   "execution_count": null,
   "id": "523c1b80",
   "metadata": {},
   "outputs": [],
   "source": []
  },
  {
   "cell_type": "markdown",
   "id": "e5bdd433",
   "metadata": {},
   "source": [
    "3. Perhatikan potongan kode berikut:"
   ]
  },
  {
   "cell_type": "code",
   "execution_count": null,
   "id": "64b58c0a",
   "metadata": {},
   "outputs": [],
   "source": [
    "a = input(\"Masukkan nilai= \")\n",
    "b = 6\n",
    "c = a + b\n",
    "print(c)"
   ]
  },
  {
   "cell_type": "markdown",
   "id": "e12d8539",
   "metadata": {},
   "source": [
    "a) Run kode di atas Jika inputan 8, Jelaskan yang terjadi setelah program dijalankan.\n",
    "\n",
    "b) Tuliskan versi kode yang benar agar menghasilkan output 14."
   ]
  },
  {
   "cell_type": "markdown",
   "id": "193e0ffc",
   "metadata": {},
   "source": [
    "Jawaban Bagian a).\n"
   ]
  },
  {
   "cell_type": "code",
   "execution_count": null,
   "id": "2c944620",
   "metadata": {},
   "outputs": [],
   "source": []
  },
  {
   "cell_type": "markdown",
   "id": "0fb6463c",
   "metadata": {},
   "source": [
    "4. Anda memiliki fungsi matematika: $f(x)=\\frac{x^2-1}{x-1}$. Buatkan program untuk mengetahui 4 nilai fungsi di sekitar nilai $x=1$. \n",
    "\n",
    "Contoh output:\n",
    "```\n",
    "pada x=1.01 nilai fungsi adalah: 2.019999999999998\n",
    "pada x=1.01 nilai fungsi adalah: 2.009999999999999\n",
    "pada x=0.98 nilai fungsi adalah: 1.9800000000000022\n",
    "pada x=0.99 nilai fungsi adalah: 1.990000000000001\n",
    "```"
   ]
  },
  {
   "cell_type": "code",
   "execution_count": null,
   "id": "120f2468",
   "metadata": {},
   "outputs": [],
   "source": [
    "\n",
    "x1 =\n",
    "fun1 = \n",
    "print(f'pada x={} nilai fungsi adalah: {}')\n",
    "\n",
    "x2 =\n",
    "fun2 = \n",
    "print(f'pada x={} nilai fungsi adalah: {}')\n",
    "\n",
    "x3 =\n",
    "fun3 = \n",
    "print(f'pada x={} nilai fungsi adalah: {}')\n",
    "\n",
    "x4 =\n",
    "fun4 = \n",
    "print(f'pada x={} nilai fungsi adalah: {}')\n"
   ]
  },
  {
   "cell_type": "markdown",
   "id": "3e019c37",
   "metadata": {},
   "source": [
    "5. Tuliskan program Python yang meminta satu bilangan bulat, kemudian cek apakah bilangan genap? output harus seperti berikut:\n",
    "\n",
    "```\n",
    "Masukkan Bilangan Genap: 5\n",
    "Pengecekan bilangan 5 merupakan genap adalah False\n",
    "```"
   ]
  },
  {
   "cell_type": "code",
   "execution_count": null,
   "id": "51340ea7",
   "metadata": {},
   "outputs": [],
   "source": []
  },
  {
   "cell_type": "markdown",
   "id": "59e2ce79",
   "metadata": {},
   "source": [
    "6. Buat program yang meminta inputan bilangan riil untuk rentang berikut. Apabila pada rentang yang benar maka mengembalikan True jika salah maka False.\n",
    "\n",
    "$1 < x < 4$ atau $6 < x < 9$ atau $x > 12$\n",
    "```\n",
    "Masukkan nilai pada rentang yang benar: 7\n",
    "Hasil Inputan: True\n",
    "```"
   ]
  },
  {
   "cell_type": "code",
   "execution_count": null,
   "id": "c4b90b5f",
   "metadata": {},
   "outputs": [],
   "source": []
  },
  {
   "cell_type": "markdown",
   "id": "be248d9a",
   "metadata": {},
   "source": [
    "7. Diberikan:\n",
    "```\n",
    "teks = \"   Kuliah&&Pemrograman&&Python&&itu&&Seru!   \"\n",
    "```\n",
    "Tuliskan kode untuk:\n",
    "\n",
    "a) Menghapus spasi di awal dan akhir serta membuat kalimatnya menjadi benar\n",
    "\n",
    "b) Mengubah semua huruf menjadi huruf kecil.\n",
    "\n",
    "c) Menghitung berapa kali huruf u muncul dalam string.\n"
   ]
  },
  {
   "cell_type": "code",
   "execution_count": null,
   "id": "a7dc09ef",
   "metadata": {},
   "outputs": [],
   "source": []
  },
  {
   "cell_type": "code",
   "execution_count": null,
   "id": "381f1a51",
   "metadata": {},
   "outputs": [],
   "source": []
  },
  {
   "cell_type": "code",
   "execution_count": null,
   "id": "dbe4f01f",
   "metadata": {},
   "outputs": [],
   "source": []
  },
  {
   "cell_type": "markdown",
   "id": "f7d375af",
   "metadata": {},
   "source": [
    "8. Anda memiliki list:\n",
    "```\n",
    "angka = [5, 10, 15, 20, 10, 2, 4, 12, 11, 9]\n",
    "```\n",
    "Tuliskan kode untuk:\n",
    "\n",
    "a) Menambahkan elemen 25 ke akhir list dan di antara `10` dan `15`.\n",
    "\n",
    "b) Menghapus elemen `10`.\n",
    "\n",
    "c) Menampilkan elemen pertama dan terakhir."
   ]
  },
  {
   "cell_type": "code",
   "execution_count": null,
   "id": "7129751f",
   "metadata": {},
   "outputs": [],
   "source": []
  },
  {
   "cell_type": "code",
   "execution_count": null,
   "id": "90771617",
   "metadata": {},
   "outputs": [],
   "source": []
  },
  {
   "cell_type": "code",
   "execution_count": null,
   "id": "9a639672",
   "metadata": {},
   "outputs": [],
   "source": []
  },
  {
   "cell_type": "markdown",
   "id": "59e374a6",
   "metadata": {},
   "source": [
    "9. Perhatikan dictionary berikut:\n",
    "``` \n",
    "data = {\n",
    "  \"Bio\" : {\n",
    "                \"nama\"  : \"Nama Lengkap\",\n",
    "                \"NIM\"   : 6002201014,\n",
    "                \"Prodi\" : \"Matematika\",\n",
    "                \"tahun\" : 2025\n",
    "            },\n",
    "  \"Matakuliah\" : {\n",
    "                \"mk\"    : ['Kalkulus','PTI','PP','PKN','Agama','CINTA'],\n",
    "                \"nilai\" : [91,89,90,90,91,94]\n",
    "            }\n",
    "}\n",
    "```\n",
    "Buatkan program yang memberikan Ouput:\n",
    "```\n",
    "Nama Mahasiswa  : Nama Lengkap\n",
    "Prodi           : Matematika - 2025\n",
    "NIM             : 6002201014\n",
    "\n",
    "\n",
    "Nilai Matakuliah Tertinggi adalah   : CINTA dengan nilai 94\n",
    "Nilai Matakuliah Terendah adalah    : PTI dengan nilai 89\n",
    "\n",
    "Nilai rata-rata matakuliah adalah: 90.83333333333333\n",
    "\n",
    "```"
   ]
  },
  {
   "cell_type": "code",
   "execution_count": null,
   "id": "9c83afd1",
   "metadata": {},
   "outputs": [],
   "source": []
  }
 ],
 "metadata": {
  "kernelspec": {
   "display_name": "base",
   "language": "python",
   "name": "python3"
  },
  "language_info": {
   "codemirror_mode": {
    "name": "ipython",
    "version": 3
   },
   "file_extension": ".py",
   "mimetype": "text/x-python",
   "name": "python",
   "nbconvert_exporter": "python",
   "pygments_lexer": "ipython3",
   "version": "3.9.12"
  }
 },
 "nbformat": 4,
 "nbformat_minor": 5
}
