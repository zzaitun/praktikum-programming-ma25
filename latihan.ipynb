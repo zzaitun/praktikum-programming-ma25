{
 "cells": [
  {
   "cell_type": "code",
   "execution_count": null,
   "id": "8943bdab",
   "metadata": {},
   "outputs": [
    {
     "name": "stdout",
     "output_type": "stream",
     "text": [
      "halo selamat datang\n"
     ]
    }
   ],
   "source": [
    "'''\n",
    "Kode ini untuk \n",
    "mengeluarkan kata halo selamat datang\n",
    "'''\n",
    "print('halo selamat datang')"
   ]
  },
  {
   "cell_type": "code",
   "execution_count": 5,
   "id": "0191a244",
   "metadata": {},
   "outputs": [
    {
     "name": "stdout",
     "output_type": "stream",
     "text": [
      "Prodi Matematika Angkatan 2025\n"
     ]
    }
   ],
   "source": [
    "prodi = \"Matematika\"\n",
    "angkatan = 2025\n",
    "print(\"Prodi\" , prodi , \"Angkatan\" , angkatan)"
   ]
  },
  {
   "cell_type": "code",
   "execution_count": 6,
   "id": "a9fbce07",
   "metadata": {},
   "outputs": [
    {
     "name": "stdout",
     "output_type": "stream",
     "text": [
      "Prodi Matematika Angkatan 2025\n"
     ]
    }
   ],
   "source": [
    "prodi = \"Matematika\"\n",
    "angkatan = 2025\n",
    "print(f\"Prodi {prodi} Angkatan {angkatan}\")"
   ]
  },
  {
   "cell_type": "code",
   "execution_count": 7,
   "id": "f5b23770",
   "metadata": {},
   "outputs": [
    {
     "name": "stdout",
     "output_type": "stream",
     "text": [
      "Hari Jum'at\n"
     ]
    }
   ],
   "source": [
    "print('Hari Jum\\'at')"
   ]
  },
  {
   "cell_type": "code",
   "execution_count": null,
   "id": "9ffd3b5e",
   "metadata": {},
   "outputs": [
    {
     "name": "stdout",
     "output_type": "stream",
     "text": [
      " Menggunakan \"python\" \n"
     ]
    }
   ],
   "source": [
    "print(' Menggunakan \\\"python\\\" ')\n"
   ]
  },
  {
   "cell_type": "code",
   "execution_count": 9,
   "id": "0ae30d83",
   "metadata": {},
   "outputs": [
    {
     "name": "stdout",
     "output_type": "stream",
     "text": [
      " Menggunakan \"python\" \n"
     ]
    }
   ],
   "source": [
    "print(\" Menggunakan \\\"python\\\" \")"
   ]
  },
  {
   "cell_type": "code",
   "execution_count": 12,
   "id": "b3c66d6e",
   "metadata": {},
   "outputs": [
    {
     "name": "stdout",
     "output_type": "stream",
     "text": [
      "belajar menggunakan simbol backslash \\\n"
     ]
    }
   ],
   "source": [
    "print(\"belajar menggunakan simbol backslash \\\\\")"
   ]
  },
  {
   "cell_type": "code",
   "execution_count": 19,
   "id": "1f8f3dd4",
   "metadata": {},
   "outputs": [
    {
     "name": "stdout",
     "output_type": "stream",
     "text": [
      "selamat datang\n",
      "\n",
      "\n",
      "\n",
      "di kampus\n"
     ]
    }
   ],
   "source": [
    "print('selamat datang\\n\\n\\n')\n",
    "print('di kampus')"
   ]
  },
  {
   "cell_type": "code",
   "execution_count": 26,
   "id": "a661d140",
   "metadata": {},
   "outputs": [
    {
     "name": "stdout",
     "output_type": "stream",
     "text": [
      "Pemrograman\n"
     ]
    }
   ],
   "source": [
    "print('KULIAH\\rPemrograman')"
   ]
  },
  {
   "cell_type": "code",
   "execution_count": 27,
   "id": "5bc85e30",
   "metadata": {},
   "outputs": [
    {
     "name": "stdout",
     "output_type": "stream",
     "text": [
      "pengantar \t pemrograman\n"
     ]
    }
   ],
   "source": [
    "print('pengantar \\t pemrograman')"
   ]
  },
  {
   "cell_type": "code",
   "execution_count": 29,
   "id": "2b51d0be",
   "metadata": {},
   "outputs": [
    {
     "name": "stdout",
     "output_type": "stream",
     "text": [
      "Nama Lengkap\t: Mahasiswa\n",
      "NIM\t\t: 6002201014\n",
      "Prodi\t\t: Matematika\n"
     ]
    }
   ],
   "source": [
    "print('Nama Lengkap\\t: Mahasiswa')\n",
    "print('NIM\\t\\t: 6002201014')\n",
    "print('Prodi\\t\\t: Matematika')"
   ]
  },
  {
   "cell_type": "code",
   "execution_count": 39,
   "id": "c85fe33d",
   "metadata": {},
   "outputs": [
    {
     "name": "stdout",
     "output_type": "stream",
     "text": [
      "KULIAH PERTAMA\n"
     ]
    }
   ],
   "source": [
    "print(\"KULIAH  \\bPERTAMA\")"
   ]
  },
  {
   "cell_type": "code",
   "execution_count": 44,
   "id": "097f4ee3",
   "metadata": {},
   "outputs": [
    {
     "name": "stdout",
     "output_type": "stream",
     "text": [
      "D u n i a\n"
     ]
    }
   ],
   "source": [
    "print(\"\\104 \\165 \\156 \\151 \\141\")"
   ]
  },
  {
   "cell_type": "code",
   "execution_count": 49,
   "id": "3d55a6bf",
   "metadata": {},
   "outputs": [
    {
     "name": "stdout",
     "output_type": "stream",
     "text": [
      "N\n"
     ]
    }
   ],
   "source": [
    "p = \"PERKULIAHAN\"\n",
    "\n",
    "print(p[-1])"
   ]
  },
  {
   "cell_type": "code",
   "execution_count": 61,
   "id": "b2d49172",
   "metadata": {},
   "outputs": [
    {
     "name": "stdout",
     "output_type": "stream",
     "text": [
      "ATIHA\n"
     ]
    }
   ],
   "source": [
    "a = \"LATIHAN\"\n",
    "print(a[1:6])"
   ]
  },
  {
   "cell_type": "code",
   "execution_count": 70,
   "id": "d0106528",
   "metadata": {},
   "outputs": [
    {
     "name": "stdout",
     "output_type": "stream",
     "text": [
      "latih PEMROGRAMAN\n"
     ]
    }
   ],
   "source": [
    "str1 = \"latih PEMROGRAMAN\"\n",
    "\n",
    "print(str1)"
   ]
  },
  {
   "cell_type": "code",
   "execution_count": 71,
   "id": "09635f7e",
   "metadata": {},
   "outputs": [
    {
     "name": "stdout",
     "output_type": "stream",
     "text": [
      "LATIH PEMROGRAMAN\n"
     ]
    }
   ],
   "source": [
    "str1 = str1.upper()\n",
    "\n",
    "print(str1)"
   ]
  },
  {
   "cell_type": "code",
   "execution_count": 72,
   "id": "7f2156cc",
   "metadata": {},
   "outputs": [
    {
     "name": "stdout",
     "output_type": "stream",
     "text": [
      "Hallo\n"
     ]
    }
   ],
   "source": [
    "str1 = input(\"masukkan nilai= \")\n",
    "print(str1)"
   ]
  },
  {
   "cell_type": "code",
   "execution_count": 2,
   "id": "bff760cd",
   "metadata": {},
   "outputs": [
    {
     "name": "stdout",
     "output_type": "stream",
     "text": [
      "=============NOT=============\n",
      "a adalah True\n",
      "-----c = not a-----NOT\n",
      "c adalah False\n"
     ]
    }
   ],
   "source": [
    "print (\"=============NOT=============\")\n",
    "a = True\n",
    "c = not a\n",
    "print(f\"a adalah {a}\")\n",
    "print(\"-----c = not a-----NOT\")\n",
    "print(f\"c adalah {c}\")\n"
   ]
  },
  {
   "cell_type": "code",
   "execution_count": 6,
   "id": "b2b6db9e",
   "metadata": {},
   "outputs": [
    {
     "name": "stdout",
     "output_type": "stream",
     "text": [
      "======OR=======\n",
      "True OR True menjadi True\n",
      "True OR False menjadi True\n",
      "False OR True menjadi True\n",
      "False OR False menjadi False\n"
     ]
    }
   ],
   "source": [
    "print(\"======OR=======\")\n",
    "a = True\n",
    "b = True\n",
    "c = a or b\n",
    "print(f\"{a} OR {b} menjadi {c}\")\n",
    "\n",
    "a = True\n",
    "b = False\n",
    "c = a or b\n",
    "print(f\"{a} OR {b} menjadi {c}\")\n",
    "\n",
    "a = False\n",
    "b = True\n",
    "c = a or b\n",
    "print(f\"{a} OR {b} menjadi {c}\")\n",
    "\n",
    "a = False\n",
    "b = False\n",
    "c = a or b\n",
    "print(f\"{a} OR {b} menjadi {c}\")\n",
    "\n"
   ]
  },
  {
   "cell_type": "code",
   "execution_count": 7,
   "id": "0862e26d",
   "metadata": {},
   "outputs": [
    {
     "name": "stdout",
     "output_type": "stream",
     "text": [
      "======AND=======\n",
      "True AND True menjadi True\n",
      "True AND False menjadi False\n",
      "False AND True menjadi False\n",
      "False AND False menjadi False\n"
     ]
    }
   ],
   "source": [
    "print(\"======AND=======\")\n",
    "a = True\n",
    "b = True\n",
    "c = a and b\n",
    "print(f\"{a} AND {b} menjadi {c}\")\n",
    "\n",
    "a = True\n",
    "b = False\n",
    "c = a and b\n",
    "print(f\"{a} AND {b} menjadi {c}\")\n",
    "\n",
    "a = False\n",
    "b = True\n",
    "c = a and b\n",
    "print(f\"{a} AND {b} menjadi {c}\")\n",
    "\n",
    "a = False\n",
    "b = False\n",
    "c = a and b\n",
    "print(f\"{a} AND {b} menjadi {c}\")\n",
    "\n"
   ]
  },
  {
   "cell_type": "code",
   "execution_count": 8,
   "id": "b0c4fe23",
   "metadata": {},
   "outputs": [
    {
     "name": "stdout",
     "output_type": "stream",
     "text": [
      "======XOR=======\n",
      "True ^ True menjadi False\n",
      "True ^ False menjadi True\n",
      "False ^ True menjadi True\n",
      "False ^ False menjadi False\n"
     ]
    }
   ],
   "source": [
    "print(\"======XOR=======\")\n",
    "a = True\n",
    "b = True\n",
    "c = a ^ b\n",
    "print(f\"{a} ^ {b} menjadi {c}\")\n",
    "\n",
    "a = True\n",
    "b = False\n",
    "c = a ^ b\n",
    "print(f\"{a} ^ {b} menjadi {c}\")\n",
    "\n",
    "a = False\n",
    "b = True\n",
    "c = a ^ b\n",
    "print(f\"{a} ^ {b} menjadi {c}\")\n",
    "\n",
    "a = False\n",
    "b = False\n",
    "c = a ^ b\n",
    "print(f\"{a} ^ {b} menjadi {c}\")"
   ]
  },
  {
   "cell_type": "code",
   "execution_count": 11,
   "id": "70cbca83",
   "metadata": {},
   "outputs": [
    {
     "name": "stdout",
     "output_type": "stream",
     "text": [
      "<class 'list'>\n"
     ]
    },
    {
     "data": {
      "text/plain": [
       "['halo', 'selamat', 'datang']"
      ]
     },
     "execution_count": 11,
     "metadata": {},
     "output_type": "execute_result"
    }
   ],
   "source": [
    "str1 = \"halo selamat datang\"\n",
    "a = str1.split()\n",
    "print(type(a))\n",
    "a"
   ]
  },
  {
   "cell_type": "code",
   "execution_count": 14,
   "id": "545629f4",
   "metadata": {},
   "outputs": [
    {
     "name": "stdout",
     "output_type": "stream",
     "text": [
      "4\n"
     ]
    },
    {
     "data": {
      "text/plain": [
       "'-'"
      ]
     },
     "execution_count": 14,
     "metadata": {},
     "output_type": "execute_result"
    }
   ],
   "source": [
    "str1 = \"cari-tanda-minus-pada-kalimat\"\n",
    "a = str1.find('-')\n",
    "print(a)\n",
    "\n",
    "str1[a]"
   ]
  },
  {
   "cell_type": "code",
   "execution_count": 17,
   "id": "a775ed25",
   "metadata": {},
   "outputs": [
    {
     "name": "stdout",
     "output_type": "stream",
     "text": [
      "XXXTENGAHXX\n"
     ]
    }
   ],
   "source": [
    "str1 = \"TENGAH\"\n",
    "a = str1.center(11,\"X\")\n",
    "print(a)"
   ]
  },
  {
   "cell_type": "code",
   "execution_count": null,
   "id": "bb1a1043",
   "metadata": {},
   "outputs": [
    {
     "name": "stdout",
     "output_type": "stream",
     "text": [
      "angkatan robotik prodi 2025\n"
     ]
    }
   ],
   "source": [
    "masuk = \"angkatan {} prodi {}\"\n",
    "tahun = 2025\n",
    "prodi = \"robotik\"\n",
    "a = masuk.format(tahun,prodi)\n",
    "print(a)"
   ]
  },
  {
   "cell_type": "code",
   "execution_count": 29,
   "id": "448a906e",
   "metadata": {},
   "outputs": [
    {
     "name": "stdout",
     "output_type": "stream",
     "text": [
      "1.0\n"
     ]
    },
    {
     "data": {
      "text/plain": [
       "float"
      ]
     },
     "execution_count": 29,
     "metadata": {},
     "output_type": "execute_result"
    }
   ],
   "source": [
    "str1 = float(input(\"Masukkan apa saja =\"))\n",
    "\n",
    "print(str1)\n",
    "\n",
    "type(str1)"
   ]
  },
  {
   "cell_type": "code",
   "execution_count": 6,
   "id": "99072519",
   "metadata": {},
   "outputs": [
    {
     "name": "stdout",
     "output_type": "stream",
     "text": [
      "[1, 5, 3, 6, 7, 1, 4, 3, 6, 9]\n",
      "[1, 1, 3, 3, 4, 5, 6, 6, 7, 9]\n",
      "[9, 7, 6, 6, 5, 4, 3, 3, 1, 1]\n"
     ]
    }
   ],
   "source": [
    "list = [1,5,3,6,7,1,4,3,6,9]\n",
    "print(list)\n",
    "\n",
    "list.sort()\n",
    "print(list)\n",
    " \n",
    "list.reverse()\n",
    "print(list)"
   ]
  },
  {
   "cell_type": "code",
   "execution_count": 9,
   "id": "9eb70d1e",
   "metadata": {},
   "outputs": [
    {
     "name": "stdout",
     "output_type": "stream",
     "text": [
      "[1, 5, 3, 6, 7, 1, 4, 3, 6, 9]\n",
      "[1, 1, 3, 3, 4, 5, 6, 6, 7, 9]\n"
     ]
    }
   ],
   "source": [
    "list = [1,5,3,6,7,1,4,3,6,9]\n",
    "print(list)\n",
    "\n",
    "list.sort()\n",
    "print(list)"
   ]
  },
  {
   "cell_type": "code",
   "execution_count": null,
   "id": "77a3f6ec",
   "metadata": {},
   "outputs": [
    {
     "name": "stdout",
     "output_type": "stream",
     "text": [
      "Von Neumann status Kuliah: Aktif\n",
      "Data terbesar nilai adalah: 97\n",
      "Data terkecil nilai adalah: 89\n",
      "Rata-rata nilai adalah: 92.25\n"
     ]
    }
   ],
   "source": [
    "data = ['Von Neumann',2023,'Aktif']\n",
    "nilai= [90,89,93,97]\n",
    "\n",
    "print(f\"{data[0]} status Kuliah: {data[2]}\")\n",
    "print(f\"Data terbesar nilai adalah: {max(nilai)}\")\n",
    "print(f\"Data terkecil nilai adalah: {min(nilai)}\")\n",
    "print(f\"Rata-rata nilai adalah: {sum(nilai)/len(nilai)}\")"
   ]
  },
  {
   "cell_type": "code",
   "execution_count": null,
   "id": "20ad9063",
   "metadata": {},
   "outputs": [
    {
     "data": {
      "text/plain": [
       "'Program pendidikan Thomas: S1-Reguler\\nAngkatan : 2023-Ganjil \\nJumlah nilai Thomas adalah: 4\\nData terbesar Thomas adalah: 97\\nData terkecil Thomas adalah: 89\\nRata-rata nilai Thomas adalah: 92.25'"
      ]
     },
     "execution_count": 15,
     "metadata": {},
     "output_type": "execute_result"
    }
   ],
   "source": [
    " Program pendidikan Thomas: S1-Reguler\n",
    " Angkatan : 2023-Ganjil \n",
    " Jumlah nilai Thomas adalah: 4\n",
    " Data terbesar Thomas adalah: 97\n",
    " Data terkecil Thomas adalah: 89\n",
    " Rata-rata nilai Thomas adalah: 92.25"
   ]
  },
  {
   "cell_type": "code",
   "execution_count": null,
   "id": "007c13da",
   "metadata": {},
   "outputs": [
    {
     "name": "stdout",
     "output_type": "stream",
     "text": [
      "Thomas\n",
      "S1-Reguler\n",
      "(20, 22)\n"
     ]
    },
    {
     "data": {
      "text/plain": [
       "'Program pendidikan Thomas: S1-Reguler\\n Angkatan : 2023-Ganjil \\n Jumlah nilai Thomas adalah: 4\\n Data terbesar Thomas adalah: 97\\n Data terkecil Thomas adalah: 89\\n Rata-rata nilai Thomas adalah: 92.25'"
      ]
     },
     "execution_count": 20,
     "metadata": {},
     "output_type": "execute_result"
    }
   ],
   "source": [
    "data = [\n",
    "        ('Thomas',2023,'Aktif'), #0 -> [0][1]\n",
    "        (90,89,93,97),           #1 -> len(data[1])\n",
    "        (20,22),                 #2\n",
    "        ('S1-Reguler','Ganjil')  #3 -> [-1][-1]\n",
    "        ]\n",
    "\n",
    "print(data[0][0]) # Thomas\n",
    "print(data[-1][0])# S1-Reguler\n",
    "print(data[2][0:])# (20,22)\n",
    "\"\"\"Program pendidikan Thomas: S1-Reguler\n",
    " Angkatan : 2023-Ganjil \n",
    " Jumlah nilai Thomas adalah: 4\n",
    " Data terbesar Thomas adalah: 97\n",
    " Data terkecil Thomas adalah: 89\n",
    " Rata-rata nilai Thomas adalah: 92.25\"\"\""
   ]
  },
  {
   "cell_type": "code",
   "execution_count": 25,
   "id": "46923dd9",
   "metadata": {},
   "outputs": [
    {
     "name": "stdout",
     "output_type": "stream",
     "text": [
      "Program pendidikan Thomas: S1-Reguler\n",
      "Angkatan : 2023-Ganjil \n",
      "Jumlah nilai Thomas adalah: 4\n",
      "Data terbesar Thomas adalah: 97\n",
      "Data terkecil Thomas adalah: 89\n",
      "Rata-rata nilai Thomas adalah: 92.25\n"
     ]
    }
   ],
   "source": [
    "print(f\"Program pendidikan {data[0][0]}: {data[-1][0]}\")\n",
    "print(f\"Angkatan : {data[0][1]}-{data[-1][-1]} \")\n",
    "print(f\"Jumlah nilai {data[0][0]} adalah: {len(data[1])}\")\n",
    "print(f\"Data terbesar {data[0][0]} adalah: {max(data[1])}\")\n",
    "print(f\"Data terkecil {data[0][0]} adalah: {min(data[1])}\")\n",
    "print(f\"Rata-rata nilai {data[0][0]} adalah: {sum(data[1])/len(data[1])}\")"
   ]
  },
  {
   "cell_type": "code",
   "execution_count": 27,
   "id": "54148496",
   "metadata": {},
   "outputs": [
    {
     "name": "stdout",
     "output_type": "stream",
     "text": [
      "{'name': 'Thomas', 'age': 22, 'country': 'Indonesia'}\n"
     ]
    }
   ],
   "source": [
    "var = dict(name = \"Thomas\", age = 22, country = \"Indonesia\")\n",
    "print(var)"
   ]
  },
  {
   "cell_type": "code",
   "execution_count": 33,
   "id": "8584e723",
   "metadata": {},
   "outputs": [
    {
     "name": "stdout",
     "output_type": "stream",
     "text": [
      "Nama Mahasiswa adalah Thomas\n",
      "Usia Thomas adalah 22\n"
     ]
    }
   ],
   "source": [
    "print(f\"Nama Mahasiswa adalah {var['name']}\")\n",
    "print(f\"Usia {var['name']} adalah {var['age']}\")"
   ]
  },
  {
   "cell_type": "code",
   "execution_count": 35,
   "id": "54c7e723",
   "metadata": {},
   "outputs": [
    {
     "name": "stdout",
     "output_type": "stream",
     "text": [
      "{'brand': 'Ford', 'year': 1964}\n"
     ]
    }
   ],
   "source": [
    "thisdict = {\n",
    "  \"brand\": \"Ford\",\n",
    "  \"model\": \"Mustang\",\n",
    "  \"year\": 1964\n",
    "}\n",
    "thisdict.pop('model')\n",
    "print(thisdict)"
   ]
  },
  {
   "cell_type": "code",
   "execution_count": 36,
   "id": "039d469c",
   "metadata": {},
   "outputs": [],
   "source": [
    "myfamily = {\n",
    "  \"child1\" : {\n",
    "                \"name\" : \"Emil\",\n",
    "                \"year\" : 2004\n",
    "            },\n",
    "  \"child2\" : {\n",
    "                \"name\" : \"Tobias\",\n",
    "                \"year\" : 2007\n",
    "            },\n",
    "  \"child3\" : {\n",
    "                \"name\" : \"Linus\",\n",
    "                \"year\" : 2011\n",
    "            }\n",
    "}"
   ]
  },
  {
   "cell_type": "code",
   "execution_count": 37,
   "id": "6182a954",
   "metadata": {},
   "outputs": [
    {
     "name": "stdout",
     "output_type": "stream",
     "text": [
      "2011\n"
     ]
    }
   ],
   "source": [
    "print(myfamily['child3']['year'])"
   ]
  }
 ],
 "metadata": {
  "kernelspec": {
   "display_name": "base",
   "language": "python",
   "name": "python3"
  },
  "language_info": {
   "codemirror_mode": {
    "name": "ipython",
    "version": 3
   },
   "file_extension": ".py",
   "mimetype": "text/x-python",
   "name": "python",
   "nbconvert_exporter": "python",
   "pygments_lexer": "ipython3",
   "version": "3.9.12"
  }
 },
 "nbformat": 4,
 "nbformat_minor": 5
}
