{
 "cells": [
  {
   "cell_type": "code",
   "execution_count": null,
   "id": "8943bdab",
   "metadata": {},
   "outputs": [
    {
     "name": "stdout",
     "output_type": "stream",
     "text": [
      "halo selamat datang\n"
     ]
    }
   ],
   "source": [
    "'''\n",
    "Kode ini untuk \n",
    "mengeluarkan kata halo selamat datang\n",
    "'''\n",
    "print('halo selamat datang')"
   ]
  },
  {
   "cell_type": "code",
   "execution_count": 5,
   "id": "0191a244",
   "metadata": {},
   "outputs": [
    {
     "name": "stdout",
     "output_type": "stream",
     "text": [
      "Prodi Matematika Angkatan 2025\n"
     ]
    }
   ],
   "source": [
    "prodi = \"Matematika\"\n",
    "angkatan = 2025\n",
    "print(\"Prodi\" , prodi , \"Angkatan\" , angkatan)"
   ]
  },
  {
   "cell_type": "code",
   "execution_count": 6,
   "id": "a9fbce07",
   "metadata": {},
   "outputs": [
    {
     "name": "stdout",
     "output_type": "stream",
     "text": [
      "Prodi Matematika Angkatan 2025\n"
     ]
    }
   ],
   "source": [
    "prodi = \"Matematika\"\n",
    "angkatan = 2025\n",
    "print(f\"Prodi {prodi} Angkatan {angkatan}\")"
   ]
  },
  {
   "cell_type": "code",
   "execution_count": 7,
   "id": "f5b23770",
   "metadata": {},
   "outputs": [
    {
     "name": "stdout",
     "output_type": "stream",
     "text": [
      "Hari Jum'at\n"
     ]
    }
   ],
   "source": [
    "print('Hari Jum\\'at')"
   ]
  },
  {
   "cell_type": "code",
   "execution_count": null,
   "id": "9ffd3b5e",
   "metadata": {},
   "outputs": [
    {
     "name": "stdout",
     "output_type": "stream",
     "text": [
      " Menggunakan \"python\" \n"
     ]
    }
   ],
   "source": [
    "print(' Menggunakan \\\"python\\\" ')\n"
   ]
  },
  {
   "cell_type": "code",
   "execution_count": 9,
   "id": "0ae30d83",
   "metadata": {},
   "outputs": [
    {
     "name": "stdout",
     "output_type": "stream",
     "text": [
      " Menggunakan \"python\" \n"
     ]
    }
   ],
   "source": [
    "print(\" Menggunakan \\\"python\\\" \")"
   ]
  },
  {
   "cell_type": "code",
   "execution_count": 12,
   "id": "b3c66d6e",
   "metadata": {},
   "outputs": [
    {
     "name": "stdout",
     "output_type": "stream",
     "text": [
      "belajar menggunakan simbol backslash \\\n"
     ]
    }
   ],
   "source": [
    "print(\"belajar menggunakan simbol backslash \\\\\")"
   ]
  },
  {
   "cell_type": "code",
   "execution_count": 19,
   "id": "1f8f3dd4",
   "metadata": {},
   "outputs": [
    {
     "name": "stdout",
     "output_type": "stream",
     "text": [
      "selamat datang\n",
      "\n",
      "\n",
      "\n",
      "di kampus\n"
     ]
    }
   ],
   "source": [
    "print('selamat datang\\n\\n\\n')\n",
    "print('di kampus')"
   ]
  },
  {
   "cell_type": "code",
   "execution_count": 26,
   "id": "a661d140",
   "metadata": {},
   "outputs": [
    {
     "name": "stdout",
     "output_type": "stream",
     "text": [
      "Pemrograman\n"
     ]
    }
   ],
   "source": [
    "print('KULIAH\\rPemrograman')"
   ]
  },
  {
   "cell_type": "code",
   "execution_count": 27,
   "id": "5bc85e30",
   "metadata": {},
   "outputs": [
    {
     "name": "stdout",
     "output_type": "stream",
     "text": [
      "pengantar \t pemrograman\n"
     ]
    }
   ],
   "source": [
    "print('pengantar \\t pemrograman')"
   ]
  },
  {
   "cell_type": "code",
   "execution_count": 29,
   "id": "2b51d0be",
   "metadata": {},
   "outputs": [
    {
     "name": "stdout",
     "output_type": "stream",
     "text": [
      "Nama Lengkap\t: Mahasiswa\n",
      "NIM\t\t: 6002201014\n",
      "Prodi\t\t: Matematika\n"
     ]
    }
   ],
   "source": [
    "print('Nama Lengkap\\t: Mahasiswa')\n",
    "print('NIM\\t\\t: 6002201014')\n",
    "print('Prodi\\t\\t: Matematika')"
   ]
  },
  {
   "cell_type": "code",
   "execution_count": 39,
   "id": "c85fe33d",
   "metadata": {},
   "outputs": [
    {
     "name": "stdout",
     "output_type": "stream",
     "text": [
      "KULIAH PERTAMA\n"
     ]
    }
   ],
   "source": [
    "print(\"KULIAH  \\bPERTAMA\")"
   ]
  },
  {
   "cell_type": "code",
   "execution_count": 44,
   "id": "097f4ee3",
   "metadata": {},
   "outputs": [
    {
     "name": "stdout",
     "output_type": "stream",
     "text": [
      "D u n i a\n"
     ]
    }
   ],
   "source": [
    "print(\"\\104 \\165 \\156 \\151 \\141\")"
   ]
  },
  {
   "cell_type": "code",
   "execution_count": 49,
   "id": "3d55a6bf",
   "metadata": {},
   "outputs": [
    {
     "name": "stdout",
     "output_type": "stream",
     "text": [
      "N\n"
     ]
    }
   ],
   "source": [
    "p = \"PERKULIAHAN\"\n",
    "\n",
    "print(p[-1])"
   ]
  },
  {
   "cell_type": "code",
   "execution_count": 61,
   "id": "b2d49172",
   "metadata": {},
   "outputs": [
    {
     "name": "stdout",
     "output_type": "stream",
     "text": [
      "ATIHA\n"
     ]
    }
   ],
   "source": [
    "a = \"LATIHAN\"\n",
    "print(a[1:6])"
   ]
  },
  {
   "cell_type": "code",
   "execution_count": 70,
   "id": "d0106528",
   "metadata": {},
   "outputs": [
    {
     "name": "stdout",
     "output_type": "stream",
     "text": [
      "latih PEMROGRAMAN\n"
     ]
    }
   ],
   "source": [
    "str1 = \"latih PEMROGRAMAN\"\n",
    "\n",
    "print(str1)"
   ]
  },
  {
   "cell_type": "code",
   "execution_count": 71,
   "id": "09635f7e",
   "metadata": {},
   "outputs": [
    {
     "name": "stdout",
     "output_type": "stream",
     "text": [
      "LATIH PEMROGRAMAN\n"
     ]
    }
   ],
   "source": [
    "str1 = str1.upper()\n",
    "\n",
    "print(str1)"
   ]
  },
  {
   "cell_type": "code",
   "execution_count": 72,
   "id": "7f2156cc",
   "metadata": {},
   "outputs": [
    {
     "name": "stdout",
     "output_type": "stream",
     "text": [
      "Hallo\n"
     ]
    }
   ],
   "source": [
    "str1 = input(\"masukkan nilai= \")\n",
    "print(str1)"
   ]
  }
 ],
 "metadata": {
  "kernelspec": {
   "display_name": "base",
   "language": "python",
   "name": "python3"
  },
  "language_info": {
   "codemirror_mode": {
    "name": "ipython",
    "version": 3
   },
   "file_extension": ".py",
   "mimetype": "text/x-python",
   "name": "python",
   "nbconvert_exporter": "python",
   "pygments_lexer": "ipython3",
   "version": "3.9.12"
  }
 },
 "nbformat": 4,
 "nbformat_minor": 5
}
