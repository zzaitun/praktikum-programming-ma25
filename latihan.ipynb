{
 "cells": [
  {
   "cell_type": "code",
   "execution_count": null,
   "id": "8943bdab",
   "metadata": {},
   "outputs": [],
   "source": [
    "'''\n",
    "Kode ini untuk \n",
    "mengeluarkan kata halo selamat datang\n",
    "'''\n",
    "print('halo selamat datang')"
   ]
  },
  {
   "cell_type": "code",
   "execution_count": null,
   "id": "0191a244",
   "metadata": {},
   "outputs": [],
   "source": [
    "prodi = \"Matematika\"\n",
    "angkatan = 2025\n",
    "print(\"Prodi\" , prodi , \"Angkatan\" , angkatan)"
   ]
  },
  {
   "cell_type": "code",
   "execution_count": null,
   "id": "a9fbce07",
   "metadata": {},
   "outputs": [],
   "source": [
    "prodi = \"Matematika\"\n",
    "angkatan = 2025\n",
    "print(f\"Prodi {prodi} Angkatan {angkatan}\")"
   ]
  },
  {
   "cell_type": "code",
   "execution_count": null,
   "id": "f5b23770",
   "metadata": {},
   "outputs": [],
   "source": [
    "print('Hari Jum\\'at')"
   ]
  },
  {
   "cell_type": "code",
   "execution_count": null,
   "id": "9ffd3b5e",
   "metadata": {},
   "outputs": [],
   "source": [
    "print(' Menggunakan \\\"python\\\" ')\n"
   ]
  },
  {
   "cell_type": "code",
   "execution_count": null,
   "id": "0ae30d83",
   "metadata": {},
   "outputs": [],
   "source": [
    "print(\" Menggunakan \\\"python\\\" \")"
   ]
  },
  {
   "cell_type": "code",
   "execution_count": null,
   "id": "b3c66d6e",
   "metadata": {},
   "outputs": [],
   "source": [
    "print(\"belajar menggunakan simbol backslash \\\\\")"
   ]
  },
  {
   "cell_type": "code",
   "execution_count": null,
   "id": "1f8f3dd4",
   "metadata": {},
   "outputs": [],
   "source": [
    "print('selamat datang\\n\\n\\n')\n",
    "print('di kampus')"
   ]
  },
  {
   "cell_type": "code",
   "execution_count": null,
   "id": "a661d140",
   "metadata": {},
   "outputs": [],
   "source": [
    "print('KULIAH\\rPemrograman')"
   ]
  },
  {
   "cell_type": "code",
   "execution_count": null,
   "id": "5bc85e30",
   "metadata": {},
   "outputs": [],
   "source": [
    "print('pengantar \\t pemrograman')"
   ]
  },
  {
   "cell_type": "code",
   "execution_count": null,
   "id": "2b51d0be",
   "metadata": {},
   "outputs": [],
   "source": [
    "print('Nama Lengkap\\t: Mahasiswa')\n",
    "print('NIM\\t\\t: 6002201014')\n",
    "print('Prodi\\t\\t: Matematika')"
   ]
  },
  {
   "cell_type": "code",
   "execution_count": null,
   "id": "c85fe33d",
   "metadata": {},
   "outputs": [],
   "source": [
    "print(\"KULIAH  \\bPERTAMA\")"
   ]
  },
  {
   "cell_type": "code",
   "execution_count": null,
   "id": "097f4ee3",
   "metadata": {},
   "outputs": [],
   "source": [
    "print(\"\\104 \\165 \\156 \\151 \\141\")"
   ]
  },
  {
   "cell_type": "code",
   "execution_count": null,
   "id": "3d55a6bf",
   "metadata": {},
   "outputs": [],
   "source": [
    "p = \"PERKULIAHAN\"\n",
    "\n",
    "print(p[-1])"
   ]
  },
  {
   "cell_type": "code",
   "execution_count": null,
   "id": "b2d49172",
   "metadata": {},
   "outputs": [],
   "source": [
    "a = \"LATIHAN\"\n",
    "print(a[1:6])"
   ]
  },
  {
   "cell_type": "code",
   "execution_count": null,
   "id": "d0106528",
   "metadata": {},
   "outputs": [],
   "source": [
    "str1 = \"latih PEMROGRAMAN\"\n",
    "\n",
    "print(str1)"
   ]
  },
  {
   "cell_type": "code",
   "execution_count": null,
   "id": "09635f7e",
   "metadata": {},
   "outputs": [],
   "source": [
    "str1 = str1.upper()\n",
    "\n",
    "print(str1)"
   ]
  },
  {
   "cell_type": "code",
   "execution_count": null,
   "id": "7f2156cc",
   "metadata": {},
   "outputs": [],
   "source": [
    "str1 = input(\"masukkan nilai= \")\n",
    "print(str1)"
   ]
  },
  {
   "cell_type": "code",
   "execution_count": null,
   "id": "bff760cd",
   "metadata": {},
   "outputs": [],
   "source": [
    "print (\"=============NOT=============\")\n",
    "a = True\n",
    "c = not a\n",
    "print(f\"a adalah {a}\")\n",
    "print(\"-----c = not a-----NOT\")\n",
    "print(f\"c adalah {c}\")\n"
   ]
  },
  {
   "cell_type": "code",
   "execution_count": null,
   "id": "b2b6db9e",
   "metadata": {},
   "outputs": [],
   "source": [
    "print(\"======OR=======\")\n",
    "a = True\n",
    "b = True\n",
    "c = a or b\n",
    "print(f\"{a} OR {b} menjadi {c}\")\n",
    "\n",
    "a = True\n",
    "b = False\n",
    "c = a or b\n",
    "print(f\"{a} OR {b} menjadi {c}\")\n",
    "\n",
    "a = False\n",
    "b = True\n",
    "c = a or b\n",
    "print(f\"{a} OR {b} menjadi {c}\")\n",
    "\n",
    "a = False\n",
    "b = False\n",
    "c = a or b\n",
    "print(f\"{a} OR {b} menjadi {c}\")\n",
    "\n"
   ]
  },
  {
   "cell_type": "code",
   "execution_count": null,
   "id": "0862e26d",
   "metadata": {},
   "outputs": [],
   "source": [
    "print(\"======AND=======\")\n",
    "a = True\n",
    "b = True\n",
    "c = a and b\n",
    "print(f\"{a} AND {b} menjadi {c}\")\n",
    "\n",
    "a = True\n",
    "b = False\n",
    "c = a and b\n",
    "print(f\"{a} AND {b} menjadi {c}\")\n",
    "\n",
    "a = False\n",
    "b = True\n",
    "c = a and b\n",
    "print(f\"{a} AND {b} menjadi {c}\")\n",
    "\n",
    "a = False\n",
    "b = False\n",
    "c = a and b\n",
    "print(f\"{a} AND {b} menjadi {c}\")\n",
    "\n"
   ]
  },
  {
   "cell_type": "code",
   "execution_count": null,
   "id": "b0c4fe23",
   "metadata": {},
   "outputs": [],
   "source": [
    "print(\"======XOR=======\")\n",
    "a = True\n",
    "b = True\n",
    "c = a ^ b\n",
    "print(f\"{a} ^ {b} menjadi {c}\")\n",
    "\n",
    "a = True\n",
    "b = False\n",
    "c = a ^ b\n",
    "print(f\"{a} ^ {b} menjadi {c}\")\n",
    "\n",
    "a = False\n",
    "b = True\n",
    "c = a ^ b\n",
    "print(f\"{a} ^ {b} menjadi {c}\")\n",
    "\n",
    "a = False\n",
    "b = False\n",
    "c = a ^ b\n",
    "print(f\"{a} ^ {b} menjadi {c}\")"
   ]
  },
  {
   "cell_type": "code",
   "execution_count": null,
   "id": "70cbca83",
   "metadata": {},
   "outputs": [],
   "source": [
    "str1 = \"halo selamat datang\"\n",
    "a = str1.split()\n",
    "print(type(a))\n",
    "a"
   ]
  },
  {
   "cell_type": "code",
   "execution_count": null,
   "id": "545629f4",
   "metadata": {},
   "outputs": [],
   "source": [
    "str1 = \"cari-tanda-minus-pada-kalimat\"\n",
    "a = str1.find('-')\n",
    "print(a)\n",
    "\n",
    "str1[a]"
   ]
  },
  {
   "cell_type": "code",
   "execution_count": null,
   "id": "a775ed25",
   "metadata": {},
   "outputs": [],
   "source": [
    "str1 = \"TENGAH\"\n",
    "a = str1.center(11,\"X\")\n",
    "print(a)"
   ]
  },
  {
   "cell_type": "code",
   "execution_count": null,
   "id": "bb1a1043",
   "metadata": {},
   "outputs": [],
   "source": [
    "masuk = \"angkatan {} prodi {}\"\n",
    "tahun = 2025\n",
    "prodi = \"robotik\"\n",
    "a = masuk.format(tahun,prodi)\n",
    "print(a)"
   ]
  },
  {
   "cell_type": "code",
   "execution_count": null,
   "id": "448a906e",
   "metadata": {},
   "outputs": [],
   "source": [
    "str1 = float(input(\"Masukkan apa saja =\"))\n",
    "\n",
    "print(str1)\n",
    "\n",
    "type(str1)"
   ]
  },
  {
   "cell_type": "code",
   "execution_count": null,
   "id": "99072519",
   "metadata": {},
   "outputs": [],
   "source": [
    "list = [1,5,3,6,7,1,4,3,6,9]\n",
    "print(list)\n",
    "\n",
    "list.sort()\n",
    "print(list)\n",
    " \n",
    "list.reverse()\n",
    "print(list)"
   ]
  },
  {
   "cell_type": "code",
   "execution_count": null,
   "id": "9eb70d1e",
   "metadata": {},
   "outputs": [],
   "source": [
    "list = [1,5,3,6,7,1,4,3,6,9]\n",
    "print(list)\n",
    "\n",
    "list.sort()\n",
    "print(list)"
   ]
  },
  {
   "cell_type": "code",
   "execution_count": null,
   "id": "77a3f6ec",
   "metadata": {},
   "outputs": [],
   "source": [
    "data = ['Von Neumann',2023,'Aktif']\n",
    "nilai= [90,89,93,97]\n",
    "\n",
    "print(f\"{data[0]} status Kuliah: {data[2]}\")\n",
    "print(f\"Data terbesar nilai adalah: {max(nilai)}\")\n",
    "print(f\"Data terkecil nilai adalah: {min(nilai)}\")\n",
    "print(f\"Rata-rata nilai adalah: {sum(nilai)/len(nilai)}\")"
   ]
  },
  {
   "cell_type": "code",
   "execution_count": null,
   "id": "20ad9063",
   "metadata": {},
   "outputs": [],
   "source": [
    " Program pendidikan Thomas: S1-Reguler\n",
    " Angkatan : 2023-Ganjil \n",
    " Jumlah nilai Thomas adalah: 4\n",
    " Data terbesar Thomas adalah: 97\n",
    " Data terkecil Thomas adalah: 89\n",
    " Rata-rata nilai Thomas adalah: 92.25"
   ]
  },
  {
   "cell_type": "code",
   "execution_count": null,
   "id": "007c13da",
   "metadata": {},
   "outputs": [],
   "source": [
    "data = [\n",
    "        ('Thomas',2023,'Aktif'), #0 -> [0][1]\n",
    "        (90,89,93,97),           #1 -> len(data[1])\n",
    "        (20,22),                 #2\n",
    "        ('S1-Reguler','Ganjil')  #3 -> [-1][-1]\n",
    "        ]\n",
    "\n",
    "print(data[0][0]) # Thomas\n",
    "print(data[-1][0])# S1-Reguler\n",
    "print(data[2][0:])# (20,22)\n",
    "\"\"\"Program pendidikan Thomas: S1-Reguler\n",
    " Angkatan : 2023-Ganjil \n",
    " Jumlah nilai Thomas adalah: 4\n",
    " Data terbesar Thomas adalah: 97\n",
    " Data terkecil Thomas adalah: 89\n",
    " Rata-rata nilai Thomas adalah: 92.25\"\"\""
   ]
  },
  {
   "cell_type": "code",
   "execution_count": null,
   "id": "46923dd9",
   "metadata": {},
   "outputs": [],
   "source": [
    "print(f\"Program pendidikan {data[0][0]}: {data[-1][0]}\")\n",
    "print(f\"Angkatan : {data[0][1]}-{data[-1][-1]} \")\n",
    "print(f\"Jumlah nilai {data[0][0]} adalah: {len(data[1])}\")\n",
    "print(f\"Data terbesar {data[0][0]} adalah: {max(data[1])}\")\n",
    "print(f\"Data terkecil {data[0][0]} adalah: {min(data[1])}\")\n",
    "print(f\"Rata-rata nilai {data[0][0]} adalah: {sum(data[1])/len(data[1])}\")"
   ]
  },
  {
   "cell_type": "code",
   "execution_count": null,
   "id": "54148496",
   "metadata": {},
   "outputs": [],
   "source": [
    "var = dict(name = \"Thomas\", age = 22, country = \"Indonesia\")\n",
    "print(var)"
   ]
  },
  {
   "cell_type": "code",
   "execution_count": null,
   "id": "8584e723",
   "metadata": {},
   "outputs": [],
   "source": [
    "print(f\"Nama Mahasiswa adalah {var['name']}\")\n",
    "print(f\"Usia {var['name']} adalah {var['age']}\")"
   ]
  },
  {
   "cell_type": "code",
   "execution_count": null,
   "id": "54c7e723",
   "metadata": {},
   "outputs": [],
   "source": [
    "thisdict = {\n",
    "  \"brand\": \"Ford\",\n",
    "  \"model\": \"Mustang\",\n",
    "  \"year\": 1964\n",
    "}\n",
    "thisdict.pop('model')\n",
    "print(thisdict)"
   ]
  },
  {
   "cell_type": "code",
   "execution_count": null,
   "id": "039d469c",
   "metadata": {},
   "outputs": [],
   "source": [
    "myfamily = {\n",
    "  \"child1\" : {\n",
    "                \"name\" : \"Emil\",\n",
    "                \"year\" : 2004\n",
    "            },\n",
    "  \"child2\" : {\n",
    "                \"name\" : \"Tobias\",\n",
    "                \"year\" : 2007\n",
    "            },\n",
    "  \"child3\" : {\n",
    "                \"name\" : \"Linus\",\n",
    "                \"year\" : 2011\n",
    "            }\n",
    "}"
   ]
  },
  {
   "cell_type": "code",
   "execution_count": null,
   "id": "6182a954",
   "metadata": {},
   "outputs": [],
   "source": [
    "print(myfamily['child3']['year'])"
   ]
  },
  {
   "cell_type": "code",
   "execution_count": null,
   "id": "46bf3d59",
   "metadata": {},
   "outputs": [],
   "source": [
    "x = float(input(\"masukkan bilangan > 1= \"))\n",
    "print(f\"nilai input adalah {x}\")\n",
    "\n",
    "cek = x > 1\n",
    "\n",
    "print(f\"Hasil Input anda adalah {cek}\")"
   ]
  },
  {
   "cell_type": "code",
   "execution_count": null,
   "id": "09035852",
   "metadata": {},
   "outputs": [],
   "source": [
    "x = float(input(\"masukkan bilangan > 0 dan < 1= \"))\n",
    "print(f\"nilai input adalah {x}\")\n",
    "\n",
    "cek1 = x > 0\n",
    "\n",
    "cek2 = x < 1\n",
    "\n",
    "cek = cek1 and cek2\n",
    "print(f\"Hasil Input anda adalah {cek}\")"
   ]
  },
  {
   "cell_type": "code",
   "execution_count": null,
   "id": "0bdf35c7",
   "metadata": {},
   "outputs": [],
   "source": [
    "x = float(input(\"masukkan bilangan > 0 dan < 1= \"))\n",
    "print(f\"nilai input adalah {x}\")\n",
    "\n",
    "cek1 = x > -2 and x < 0\n",
    "\n",
    "cek2 = x > 1 and x < 3\n",
    "\n",
    "cek = cek1 or cek2\n",
    "print(f\"Hasil Input anda adalah {cek}\")"
   ]
  },
  {
   "cell_type": "code",
   "execution_count": null,
   "id": "641d0ae8",
   "metadata": {},
   "outputs": [],
   "source": [
    "x = float(input(\"masukkan bilangan > 0 dan < 1= \"))\n",
    "print(f\"nilai input adalah {x}\")\n",
    "\n",
    "cek1 = x > -2 and x < 0\n",
    "\n",
    "cek2 = ( x > 1 and x < 3 ) or x > 3.5\n",
    "\n",
    "cek = cek1 or cek2\n",
    "print(f\"Hasil Input anda adalah {cek}\")"
   ]
  },
  {
   "cell_type": "code",
   "execution_count": null,
   "id": "f708d1d0",
   "metadata": {},
   "outputs": [],
   "source": [
    "x = float(input(\"masukkan bilangan > 0 dan < 1= \"))\n",
    "print(f\"nilai input adalah {x}\")\n",
    "\n",
    "cek1 = (x > -2 and x < 0) or x<-5\n",
    "\n",
    "cek2 = ( x > 1 and x < 3 ) or x > 3.5\n",
    "\n",
    "cek = cek1 or cek2\n",
    "print(f\"Hasil Input anda adalah {cek}\")"
   ]
  },
  {
   "cell_type": "code",
   "execution_count": 73,
   "id": "6381b3e1",
   "metadata": {},
   "outputs": [
    {
     "name": "stdout",
     "output_type": "stream",
     "text": [
      "UTS\n",
      "- - - - - - - - - - - - - - - - - - - - - - - - - - - - - - - - - - - - - - -\n",
      "No. Kode Barang |    Nama Barang    |   H. Satuan   | Jumlah |    Total     |\n",
      "- - - - - - - - - - - - - - - - - - - - - - - - - - - - - - - - - - - - - - -\n",
      "1   D0001       | Monitor           |     Rp700000,-|   2    |   Rp1400000,-|\n",
      "2   D0002       | Mouse             |      Rp20000,-|   2    |     Rp40000,-|\n",
      "3   D0003       | Keyboard          |      Rp50000,-|   2    |    Rp100000,-|\n",
      "4   D0004       | CPU               |    Rp1000000,-|   2    |   Rp2000000,-|\n",
      "5   D0005       | UPS               |     Rp300000,-|   2    |    Rp600000,-|\n",
      "- - - - - - - - - - - - - - - - - - - - - - - - - - - - - - - - - - - - - - -\n",
      "                                                   SUBTOTAL: 10  Rp4140000,-|\n",
      "Summary:\n",
      "Harga tertinggi adalah\t\t: Rp1000000,-  (D0004 - CPU)\n",
      "Harga terendah adalah\t\t: Rp20000,-  (D0002 - Mouse)\n",
      "Harga rata-rata pembelian\t: Rp414000.0,-\n",
      "                                                    Parepare, 20 Oktober 2025\n",
      "\n",
      "\n",
      "\n",
      "\n",
      "\n",
      "                                                                    MAHASISWA\n",
      "                                                                    ---------\n",
      "                                                                      MANAJER\n"
     ]
    }
   ],
   "source": [
    "print('UTS')\n",
    "m = ['PT. XYZ Komputer',\n",
    "        'JL. BALAIKOTA NO.1',\n",
    "        'Kota Parepare',\n",
    "        'Mahasiswa',\n",
    "        'mahasiswa@ith.ac.id',\n",
    "        'Kasir',\n",
    "        '20 Oktober 2025']\n",
    "\n",
    "d = [['D0001','D0002','D0003','D0004','D0005'], #0\n",
    "    ['Monitor','Mouse','Keyboard','CPU','UPS'], #1\n",
    "    [700,20,50,1000,300],                       #2\n",
    "    [2,2,2,2,2]]                                #3\n",
    "\n",
    "r = 1000\n",
    "# space = \"|--     16    --|--       19      --|--     15    --|--  8 --|--    14    --|\"\n",
    "# len(space)\n",
    "\n",
    "print('- '*38+'-')\n",
    "print('No. Kode Barang |'+'Nama Barang'.center(19)+'|'+'H. Satuan'.center(15)+'|'+'Jumlah'.center(8)+'|'+'Total'.center(14)+'|')\n",
    "print('- '*38+'-')\n",
    "\n",
    "print(f'1   {d[0][0]}'.ljust(16)+'|'+f' {d[1][0]}'.ljust(19)+'|'+f'Rp{d[2][0]*r},-'.rjust(15)+'|'+f'{d[3][0]}'.center(8)+'|'\n",
    "      +f'Rp{d[2][0]*d[3][0]*r},-'.rjust(14)+'|')\n",
    "\n",
    "print(f'2   {d[0][1]}'.ljust(16)+'|'+f' {d[1][1]}'.ljust(19)+'|'+f'Rp{d[2][1]*r},-'.rjust(15)+'|'+f'{d[3][1]}'.center(8)+'|'\n",
    "      +f'Rp{d[2][1]*d[3][1]*r},-'.rjust(14)+'|')\n",
    "\n",
    "print(f'3   {d[0][2]}'.ljust(16)+'|'+f' {d[1][2]}'.ljust(19)+'|'+f'Rp{d[2][2]*r},-'.rjust(15)+'|'+f'{d[3][2]}'.center(8)+'|'\n",
    "      +f'Rp{d[2][2]*d[3][2]*r},-'.rjust(14)+'|')\n",
    "\n",
    "print(f'4   {d[0][3]}'.ljust(16)+'|'+f' {d[1][3]}'.ljust(19)+'|'+f'Rp{d[2][3]*r},-'.rjust(15)+'|'+f'{d[3][3]}'.center(8)+'|'\n",
    "      +f'Rp{d[2][3]*d[3][3]*r},-'.rjust(14)+'|')\n",
    "\n",
    "print(f'5   {d[0][4]}'.ljust(16)+'|'+f' {d[1][4]}'.ljust(19)+'|'+f'Rp{d[2][4]*r},-'.rjust(15)+'|'+f'{d[3][4]}'.center(8)+'|'\n",
    "      +f'Rp{d[2][4]*d[3][4]*r},-'.rjust(14)+'|')\n",
    "\n",
    "print('- '*38+'-')\n",
    "print(f'SUBTOTAL: {sum(d[3])}  Rp{sum(d[2])*r*2},-'.rjust(76)+'|')\n",
    "\n",
    "print('Summary:')\n",
    "\n",
    "maxi = max(d[2])\n",
    "index = d[2].index(maxi)\n",
    "\n",
    "print(f'Harga tertinggi adalah\\t\\t: Rp{maxi*r},-  ({d[0][index]} - {d[1][index]})')\n",
    "\n",
    "mini = min(d[2])\n",
    "ind = d[2].index(mini)\n",
    "\n",
    "print(f'Harga terendah adalah\\t\\t: Rp{mini*r},-  ({d[0][ind]} - {d[1][ind]})')\n",
    "\n",
    "print(f'Harga rata-rata pembelian\\t: Rp{sum(d[2])/len(d[2])*r},-')\n",
    "\n",
    "print(f'{m[2][5:]}, {m[-1]}'.rjust(77))\n",
    "print('\\n'*4)\n",
    "print(f'{m[3]}'.upper().rjust(77))\n",
    "garis = str('-'*len(m[3]))\n",
    "print(garis.rjust(77))\n",
    "print('MANAJER'.rjust(77))\n"
   ]
  }
 ],
 "metadata": {
  "kernelspec": {
   "display_name": "base",
   "language": "python",
   "name": "python3"
  },
  "language_info": {
   "codemirror_mode": {
    "name": "ipython",
    "version": 3
   },
   "file_extension": ".py",
   "mimetype": "text/x-python",
   "name": "python",
   "nbconvert_exporter": "python",
   "pygments_lexer": "ipython3",
   "version": "3.9.12"
  }
 },
 "nbformat": 4,
 "nbformat_minor": 5
}
